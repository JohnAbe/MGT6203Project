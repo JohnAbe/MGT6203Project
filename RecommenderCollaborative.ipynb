{
 "cells": [
  {
   "cell_type": "code",
   "execution_count": 92,
   "metadata": {},
   "outputs": [],
   "source": [
    "import pandas as pd\n",
    "import numpy as np\n",
    "from scipy.sparse import csr_matrix\n",
    "from sklearn.metrics.pairwise import cosine_similarity\n",
    "#import pickle\n",
    "import random\n",
    "import itertools\n",
    "dunnhumby_path = \"/Users/johnabraham/Desktop/dunnhumby_The-Complete-Journey/dunnhumby - The Complete Journey CSV\""
   ]
  },
  {
   "cell_type": "code",
   "execution_count": 2,
   "metadata": {},
   "outputs": [],
   "source": [
    "trans_data = pd.read_csv(dunnhumby_path+\"/transaction_data.csv\")"
   ]
  },
  {
   "cell_type": "code",
   "execution_count": 3,
   "metadata": {},
   "outputs": [],
   "source": [
    "# Make everything in lower case\n",
    "trans_data.rename(columns=dict(zip(trans_data.columns,trans_data.columns.str.lower())),inplace=True)"
   ]
  },
  {
   "cell_type": "code",
   "execution_count": 56,
   "metadata": {},
   "outputs": [],
   "source": [
    "trans_data_grpby = trans_data.groupby(['household_key','product_id'],as_index=False)['sales_value','quantity'].agg({'sales_value':'sum','quantity':'sum'})\n",
    "\n",
    "# We need to ensure products that are rarely bought by anyone should not be found similar with high confidence\n",
    "# Keeping a threshold that at least 3 people have to purchase an item for it to go into the collab filtering\n",
    "allowed_product_list = trans_data_grpby.groupby('product_id',as_index=False)['household_key'].agg({'household_key':'count'})\n",
    "allowed_product_list = list(allowed_product_list[allowed_product_list.household_key>2]['product_id'])\n",
    "trans_data_grpby = trans_data_grpby[trans_data_grpby.product_id.isin(allowed_product_list)]\n",
    "# Note that this filter must have the same value as is there in the Recommendations.R file. Otherwise it will throw a KeyError in the part where\n",
    "# recommendations are made\n",
    "# This is to avoid costly things that are not frequently purchased\n",
    "trans_data_grpby =trans_data_grpby[trans_data_grpby.quantity>2]\n",
    "#trans_data_cross = trans_data_grpby.pivot_table(index='household_key',columns='product_id', values='sales_value').reset_index()"
   ]
  },
  {
   "cell_type": "code",
   "execution_count": 58,
   "metadata": {},
   "outputs": [],
   "source": [
    "hh_key_idx = dict(zip(trans_data_grpby.household_key.unique(),np.arange(len(trans_data_grpby.household_key.unique()))))\n",
    "prod_id_idx = dict(zip(trans_data_grpby.product_id.unique(), np.arange(len(trans_data_grpby.product_id.unique()))))\n",
    "prod_idx_2_id = dict(enumerate(trans_data_grpby.product_id.unique()))"
   ]
  },
  {
   "cell_type": "code",
   "execution_count": 59,
   "metadata": {},
   "outputs": [],
   "source": [
    "hh_prod_mat = csr_matrix((trans_data_grpby.sales_value,\n",
    "                          (list(map(lambda x: hh_key_idx[x],trans_data_grpby.household_key)),\n",
    "                           list(map(lambda x: prod_id_idx[x],trans_data_grpby.product_id)))),\n",
    "                          shape=(len(hh_key_idx),len(prod_id_idx)))"
   ]
  },
  {
   "cell_type": "code",
   "execution_count": 60,
   "metadata": {},
   "outputs": [],
   "source": [
    "hh_prod_sim = cosine_similarity(hh_prod_mat.transpose())"
   ]
  },
  {
   "cell_type": "code",
   "execution_count": 8,
   "metadata": {
    "collapsed": true
   },
   "outputs": [],
   "source": [
    "# Earlier planned to write to a file to read in R. But the file is just too big (beyond 1 GB)\n",
    "# hh_prod_sim_df = pd.DataFrame(hh_prod_sim)\n",
    "# hh_prod_sim_df.columns=trans_data_grpby.product_id.unique()\n",
    "# hh_prod_sim_df['product_id']=trans_data_grpby.product_id.unique()"
   ]
  },
  {
   "cell_type": "code",
   "execution_count": 9,
   "metadata": {},
   "outputs": [],
   "source": [
    "# Output the file as a pickle file - Kernal dying\n",
    "# with open(\"/Users/johnabraham/Desktop/dunnhumby_The-Complete-Journey/ProductRecommendation.P\",\"wb\") as file:\n",
    "#     pickle.dump(hh_prod_sim_df,file)"
   ]
  },
  {
   "cell_type": "markdown",
   "metadata": {},
   "source": [
    "### Try to manually see how highly similar products look"
   ]
  },
  {
   "cell_type": "code",
   "execution_count": 139,
   "metadata": {},
   "outputs": [
    {
     "data": {
      "text/html": [
       "<div>\n",
       "<style scoped>\n",
       "    .dataframe tbody tr th:only-of-type {\n",
       "        vertical-align: middle;\n",
       "    }\n",
       "\n",
       "    .dataframe tbody tr th {\n",
       "        vertical-align: top;\n",
       "    }\n",
       "\n",
       "    .dataframe thead th {\n",
       "        text-align: right;\n",
       "    }\n",
       "</style>\n",
       "<table border=\"1\" class=\"dataframe\">\n",
       "  <thead>\n",
       "    <tr style=\"text-align: right;\">\n",
       "      <th></th>\n",
       "      <th>prod_names</th>\n",
       "      <th>product_id</th>\n",
       "      <th>similarity</th>\n",
       "    </tr>\n",
       "  </thead>\n",
       "  <tbody>\n",
       "    <tr>\n",
       "      <th>0</th>\n",
       "      <td>SOFT LENS - CHEMICAL</td>\n",
       "      <td>975792</td>\n",
       "      <td>1.0</td>\n",
       "    </tr>\n",
       "    <tr>\n",
       "      <th>1</th>\n",
       "      <td>DRIED FRUIT - OTHER</td>\n",
       "      <td>897033</td>\n",
       "      <td>1.0</td>\n",
       "    </tr>\n",
       "    <tr>\n",
       "      <th>2</th>\n",
       "      <td>MEXICAN SAUCESSALSAPICANTEE</td>\n",
       "      <td>5567619</td>\n",
       "      <td>1.0</td>\n",
       "    </tr>\n",
       "    <tr>\n",
       "      <th>3</th>\n",
       "      <td>PREMIUM BREAD</td>\n",
       "      <td>16769634</td>\n",
       "      <td>1.0</td>\n",
       "    </tr>\n",
       "    <tr>\n",
       "      <th>4</th>\n",
       "      <td>PREMIUM BREAD</td>\n",
       "      <td>16769841</td>\n",
       "      <td>1.0</td>\n",
       "    </tr>\n",
       "  </tbody>\n",
       "</table>\n",
       "</div>"
      ],
      "text/plain": [
       "                    prod_names  product_id  similarity\n",
       "0         SOFT LENS - CHEMICAL      975792         1.0\n",
       "1          DRIED FRUIT - OTHER      897033         1.0\n",
       "2  MEXICAN SAUCESSALSAPICANTEE     5567619         1.0\n",
       "3                PREMIUM BREAD    16769634         1.0\n",
       "4                PREMIUM BREAD    16769841         1.0"
      ]
     },
     "metadata": {},
     "output_type": "display_data"
    },
    {
     "data": {
      "text/html": [
       "<div>\n",
       "<style scoped>\n",
       "    .dataframe tbody tr th:only-of-type {\n",
       "        vertical-align: middle;\n",
       "    }\n",
       "\n",
       "    .dataframe tbody tr th {\n",
       "        vertical-align: top;\n",
       "    }\n",
       "\n",
       "    .dataframe thead th {\n",
       "        text-align: right;\n",
       "    }\n",
       "</style>\n",
       "<table border=\"1\" class=\"dataframe\">\n",
       "  <thead>\n",
       "    <tr style=\"text-align: right;\">\n",
       "      <th></th>\n",
       "      <th>prod_names</th>\n",
       "      <th>product_id</th>\n",
       "      <th>similarity</th>\n",
       "    </tr>\n",
       "  </thead>\n",
       "  <tbody>\n",
       "    <tr>\n",
       "      <th>0</th>\n",
       "      <td>FRZN BREAKFAST ENTREES/SANDWIC</td>\n",
       "      <td>951350</td>\n",
       "      <td>1.000000</td>\n",
       "    </tr>\n",
       "    <tr>\n",
       "      <th>1</th>\n",
       "      <td>SNACKS/APPETIZERS</td>\n",
       "      <td>6553886</td>\n",
       "      <td>0.790891</td>\n",
       "    </tr>\n",
       "    <tr>\n",
       "      <th>2</th>\n",
       "      <td>FRZN BREAKFAST ENTREES/SANDWIC</td>\n",
       "      <td>860456</td>\n",
       "      <td>0.790891</td>\n",
       "    </tr>\n",
       "    <tr>\n",
       "      <th>3</th>\n",
       "      <td>SEASONAL CANDY BOX NON-CHOCOLA</td>\n",
       "      <td>1036403</td>\n",
       "      <td>0.790891</td>\n",
       "    </tr>\n",
       "    <tr>\n",
       "      <th>4</th>\n",
       "      <td>FRZN BREAKFAST ENTREES/SANDWIC</td>\n",
       "      <td>13007838</td>\n",
       "      <td>0.755614</td>\n",
       "    </tr>\n",
       "  </tbody>\n",
       "</table>\n",
       "</div>"
      ],
      "text/plain": [
       "                       prod_names  product_id  similarity\n",
       "0  FRZN BREAKFAST ENTREES/SANDWIC      951350    1.000000\n",
       "1               SNACKS/APPETIZERS     6553886    0.790891\n",
       "2  FRZN BREAKFAST ENTREES/SANDWIC      860456    0.790891\n",
       "3  SEASONAL CANDY BOX NON-CHOCOLA     1036403    0.790891\n",
       "4  FRZN BREAKFAST ENTREES/SANDWIC    13007838    0.755614"
      ]
     },
     "metadata": {},
     "output_type": "display_data"
    },
    {
     "data": {
      "text/html": [
       "<div>\n",
       "<style scoped>\n",
       "    .dataframe tbody tr th:only-of-type {\n",
       "        vertical-align: middle;\n",
       "    }\n",
       "\n",
       "    .dataframe tbody tr th {\n",
       "        vertical-align: top;\n",
       "    }\n",
       "\n",
       "    .dataframe thead th {\n",
       "        text-align: right;\n",
       "    }\n",
       "</style>\n",
       "<table border=\"1\" class=\"dataframe\">\n",
       "  <thead>\n",
       "    <tr style=\"text-align: right;\">\n",
       "      <th></th>\n",
       "      <th>prod_names</th>\n",
       "      <th>product_id</th>\n",
       "      <th>similarity</th>\n",
       "    </tr>\n",
       "  </thead>\n",
       "  <tbody>\n",
       "    <tr>\n",
       "      <th>0</th>\n",
       "      <td>CANDY BAGS-NON CHOCOLATE</td>\n",
       "      <td>871741</td>\n",
       "      <td>1.000000</td>\n",
       "    </tr>\n",
       "    <tr>\n",
       "      <th>1</th>\n",
       "      <td>AUTHENTIC SAUCES SALSA PICAN</td>\n",
       "      <td>1109908</td>\n",
       "      <td>0.477327</td>\n",
       "    </tr>\n",
       "    <tr>\n",
       "      <th>2</th>\n",
       "      <td>CAKES: NOVELTIES</td>\n",
       "      <td>862794</td>\n",
       "      <td>0.477327</td>\n",
       "    </tr>\n",
       "    <tr>\n",
       "      <th>3</th>\n",
       "      <td>GREEN OLIVES</td>\n",
       "      <td>1041108</td>\n",
       "      <td>0.477327</td>\n",
       "    </tr>\n",
       "    <tr>\n",
       "      <th>4</th>\n",
       "      <td>HISPANIC CARBONATED BEVERAGES</td>\n",
       "      <td>961133</td>\n",
       "      <td>0.475448</td>\n",
       "    </tr>\n",
       "  </tbody>\n",
       "</table>\n",
       "</div>"
      ],
      "text/plain": [
       "                      prod_names  product_id  similarity\n",
       "0       CANDY BAGS-NON CHOCOLATE      871741    1.000000\n",
       "1   AUTHENTIC SAUCES SALSA PICAN     1109908    0.477327\n",
       "2               CAKES: NOVELTIES      862794    0.477327\n",
       "3                   GREEN OLIVES     1041108    0.477327\n",
       "4  HISPANIC CARBONATED BEVERAGES      961133    0.475448"
      ]
     },
     "metadata": {},
     "output_type": "display_data"
    }
   ],
   "source": [
    "# Read in the product fille \n",
    "product = pd.read_csv(dunnhumby_path+\"/product.csv\")\n",
    "num_prods_2_inspect = 3\n",
    "num_sim_prods = 4\n",
    "product_list = np.random.choice(list(prod_id_idx.keys()),size=num_prods_2_inspect,replace=False)\n",
    "#list(product.sample(num_prods_2_inspect).PRODUCT_ID) # Not all products are in the collab filtering matrix\n",
    "for product_id in product_list:\n",
    "    prod_n_sim_list = np.argsort(-hh_prod_sim[prod_id_idx[product_id],:])[:num_sim_prods+1]\n",
    "    similarity = hh_prod_sim[prod_id_idx[product_id],prod_n_sim_list]\n",
    "    prod_ids = [prod_idx_2_id[prod_idx] for prod_idx in prod_n_sim_list]\n",
    "    prod_names = [(product[product.PRODUCT_ID==prod_id]['SUB_COMMODITY_DESC']).to_string(index=False) for prod_id in prod_ids]\n",
    "    display(pd.DataFrame({'product_id':prod_ids,'similarity':similarity,'prod_names':prod_names}))\n"
   ]
  },
  {
   "cell_type": "markdown",
   "metadata": {},
   "source": [
    "### This part below expects the R-code to generate recommendation_output.csv is run and that file is available at this location"
   ]
  },
  {
   "cell_type": "code",
   "execution_count": 134,
   "metadata": {},
   "outputs": [],
   "source": [
    "processed_files_path = \"/Users/johnabraham/Dropbox/MSARelated/Spring2018/MGT6203/ProjectRelated\""
   ]
  },
  {
   "cell_type": "code",
   "execution_count": 135,
   "metadata": {},
   "outputs": [
    {
     "data": {
      "text/html": [
       "<div>\n",
       "<style scoped>\n",
       "    .dataframe tbody tr th:only-of-type {\n",
       "        vertical-align: middle;\n",
       "    }\n",
       "\n",
       "    .dataframe tbody tr th {\n",
       "        vertical-align: top;\n",
       "    }\n",
       "\n",
       "    .dataframe thead th {\n",
       "        text-align: right;\n",
       "    }\n",
       "</style>\n",
       "<table border=\"1\" class=\"dataframe\">\n",
       "  <thead>\n",
       "    <tr style=\"text-align: right;\">\n",
       "      <th></th>\n",
       "      <th>store_id</th>\n",
       "      <th>household_key</th>\n",
       "      <th>recommendation_rank</th>\n",
       "      <th>product_id</th>\n",
       "    </tr>\n",
       "  </thead>\n",
       "  <tbody>\n",
       "    <tr>\n",
       "      <th>0</th>\n",
       "      <td>292</td>\n",
       "      <td>1869</td>\n",
       "      <td>3</td>\n",
       "      <td>967395</td>\n",
       "    </tr>\n",
       "    <tr>\n",
       "      <th>1</th>\n",
       "      <td>292</td>\n",
       "      <td>1869</td>\n",
       "      <td>4</td>\n",
       "      <td>992621</td>\n",
       "    </tr>\n",
       "    <tr>\n",
       "      <th>2</th>\n",
       "      <td>292</td>\n",
       "      <td>1869</td>\n",
       "      <td>5</td>\n",
       "      <td>1065593</td>\n",
       "    </tr>\n",
       "    <tr>\n",
       "      <th>3</th>\n",
       "      <td>292</td>\n",
       "      <td>1869</td>\n",
       "      <td>1</td>\n",
       "      <td>1126899</td>\n",
       "    </tr>\n",
       "    <tr>\n",
       "      <th>4</th>\n",
       "      <td>292</td>\n",
       "      <td>1869</td>\n",
       "      <td>2</td>\n",
       "      <td>9297177</td>\n",
       "    </tr>\n",
       "  </tbody>\n",
       "</table>\n",
       "</div>"
      ],
      "text/plain": [
       "   store_id  household_key  recommendation_rank  product_id\n",
       "0       292           1869                    3      967395\n",
       "1       292           1869                    4      992621\n",
       "2       292           1869                    5     1065593\n",
       "3       292           1869                    1     1126899\n",
       "4       292           1869                    2     9297177"
      ]
     },
     "execution_count": 135,
     "metadata": {},
     "output_type": "execute_result"
    }
   ],
   "source": [
    "# Read a dataset that has store_id, household_id, product_id from the historical data and use the collaborative filtering based method to append more products\n",
    "# Return the dataset along with a key that says which one it is based on - historical or recommendation\n",
    "reco_data = pd.read_csv(processed_files_path+\"/recommendation_output.csv\")\n",
    "reco_data.head()"
   ]
  },
  {
   "cell_type": "code",
   "execution_count": 138,
   "metadata": {},
   "outputs": [],
   "source": [
    "reco_data_augmented = reco_data[['store_id','household_key','product_id']]\n",
    "num_reco_products = 10 # Only up to num_reco_products will be added\n",
    "similarity_threshold = 0.85 # Only products with a similarity of similarity_threshold or above will be considered 'similar'\n",
    "for _,record in reco_data.iterrows():\n",
    "    if record['product_id'] in prod_id_idx:\n",
    "        prod_idx=prod_id_idx[record['product_id']]\n",
    "        similarity_scores = hh_prod_sim[prod_idx,:]\n",
    "        recommended_additional_product_idx = np.argsort(similarity_scores)[-(num_reco_products+1):-1]\n",
    "        for prod_idx in recommended_additional_product_idx:\n",
    "            if(similarity_scores[prod_idx]>=similarity_threshold):\n",
    "                reco_data_augmented=reco_data_augmented.append(pd.DataFrame({\"store_id\":record['store_id'],\"household_key\":record['household_key'],\n",
    "                                                                           'product_id':prod_idx_2_id[prod_idx]},index=[0]),ignore_index=True)\n",
    "reco_data_augmented=reco_data_augmented.drop_duplicates()\n",
    "reco_data_augmented.to_csv(processed_files_path+\"/recommendation_augmented_output.csv\",index=False)"
   ]
  }
 ],
 "metadata": {
  "kernelspec": {
   "display_name": "Python 3",
   "language": "python",
   "name": "python3"
  },
  "language_info": {
   "codemirror_mode": {
    "name": "ipython",
    "version": 3
   },
   "file_extension": ".py",
   "mimetype": "text/x-python",
   "name": "python",
   "nbconvert_exporter": "python",
   "pygments_lexer": "ipython3",
   "version": "3.6.4"
  }
 },
 "nbformat": 4,
 "nbformat_minor": 2
}
