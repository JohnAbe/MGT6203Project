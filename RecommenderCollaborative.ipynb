{
 "cells": [
  {
   "cell_type": "code",
   "execution_count": 1,
   "metadata": {
    "collapsed": true
   },
   "outputs": [],
   "source": [
    "import pandas as pd\n",
    "import numpy as np\n",
    "from scipy.sparse import csr_matrix\n",
    "from sklearn.metrics.pairwise import cosine_similarity\n",
    "import pickle\n",
    "dunnhumby_path = \"/Users/johnabraham/Desktop/dunnhumby_The-Complete-Journey/dunnhumby - The Complete Journey CSV\""
   ]
  },
  {
   "cell_type": "code",
   "execution_count": 2,
   "metadata": {
    "collapsed": true
   },
   "outputs": [],
   "source": [
    "trans_data = pd.read_csv(dunnhumby_path+\"/transaction_data.csv\")"
   ]
  },
  {
   "cell_type": "code",
   "execution_count": 3,
   "metadata": {
    "collapsed": true
   },
   "outputs": [],
   "source": [
    "# Make everything in lower case\n",
    "trans_data.rename(columns=dict(zip(trans_data.columns,trans_data.columns.str.lower())),inplace=True)"
   ]
  },
  {
   "cell_type": "code",
   "execution_count": 4,
   "metadata": {
    "collapsed": true
   },
   "outputs": [],
   "source": [
    "trans_data_grpby = trans_data.groupby(['household_key','product_id'],as_index=False)['sales_value'].agg({'sales_value':'sum'})\n",
    "#trans_data_cross = trans_data_grpby.pivot_table(index='household_key',columns='product_id', values='sales_value').reset_index()"
   ]
  },
  {
   "cell_type": "code",
   "execution_count": 30,
   "metadata": {
    "collapsed": true
   },
   "outputs": [],
   "source": [
    "hh_key_idx = dict(zip(trans_data_grpby.household_key.unique(),np.arange(len(trans_data_grpby.household_key.unique()))))\n",
    "prod_id_idx = dict(zip(trans_data_grpby.product_id.unique(), np.arange(len(trans_data_grpby.product_id.unique()))))\n",
    "prod_idx_2_id = dict(enumerate(trans_data_grpby.product_id.unique()))"
   ]
  },
  {
   "cell_type": "code",
   "execution_count": 6,
   "metadata": {
    "collapsed": true
   },
   "outputs": [],
   "source": [
    "hh_prod_mat = csr_matrix((trans_data_grpby.sales_value,\n",
    "                          (list(map(lambda x: hh_key_idx[x],trans_data_grpby.household_key)),\n",
    "                           list(map(lambda x: prod_id_idx[x],trans_data_grpby.product_id)))),\n",
    "                          shape=(len(hh_key_idx),len(prod_id_idx)))"
   ]
  },
  {
   "cell_type": "code",
   "execution_count": 7,
   "metadata": {
    "collapsed": true
   },
   "outputs": [],
   "source": [
    "hh_prod_sim = cosine_similarity(hh_prod_mat.transpose())"
   ]
  },
  {
   "cell_type": "code",
   "execution_count": 8,
   "metadata": {
    "collapsed": true
   },
   "outputs": [],
   "source": [
    "# Earlier planned to write to a file to read in R. But the file is just too big (beyond 1 GB)\n",
    "# hh_prod_sim_df = pd.DataFrame(hh_prod_sim)\n",
    "# hh_prod_sim_df.columns=trans_data_grpby.product_id.unique()\n",
    "# hh_prod_sim_df['product_id']=trans_data_grpby.product_id.unique()"
   ]
  },
  {
   "cell_type": "code",
   "execution_count": 9,
   "metadata": {},
   "outputs": [],
   "source": [
    "# Output the file as a pickle file - Kernal dying\n",
    "# with open(\"/Users/johnabraham/Desktop/dunnhumby_The-Complete-Journey/ProductRecommendation.P\",\"wb\") as file:\n",
    "#     pickle.dump(hh_prod_sim_df,file)"
   ]
  },
  {
   "cell_type": "code",
   "execution_count": 53,
   "metadata": {},
   "outputs": [
    {
     "data": {
      "text/plain": [
       "'/Users/johnabraham/Dropbox/MSARelated/Spring2018/MGT6203/ProjectRelated/recommendation_output.csv'"
      ]
     },
     "execution_count": 53,
     "metadata": {},
     "output_type": "execute_result"
    }
   ],
   "source": [
    "### This part below expects the R-code to generate recommendation_output.csv is run and that file is available at this location\n",
    "processed_files_path = \"/Users/johnabraham/Dropbox/MSARelated/Spring2018/MGT6203/ProjectRelated\""
   ]
  },
  {
   "cell_type": "code",
   "execution_count": 11,
   "metadata": {},
   "outputs": [
    {
     "data": {
      "text/html": [
       "<div>\n",
       "<style>\n",
       "    .dataframe thead tr:only-child th {\n",
       "        text-align: right;\n",
       "    }\n",
       "\n",
       "    .dataframe thead th {\n",
       "        text-align: left;\n",
       "    }\n",
       "\n",
       "    .dataframe tbody tr th {\n",
       "        vertical-align: top;\n",
       "    }\n",
       "</style>\n",
       "<table border=\"1\" class=\"dataframe\">\n",
       "  <thead>\n",
       "    <tr style=\"text-align: right;\">\n",
       "      <th></th>\n",
       "      <th>store_id</th>\n",
       "      <th>household_key</th>\n",
       "      <th>recommendation_rank</th>\n",
       "      <th>product_id</th>\n",
       "    </tr>\n",
       "  </thead>\n",
       "  <tbody>\n",
       "    <tr>\n",
       "      <th>0</th>\n",
       "      <td>292</td>\n",
       "      <td>559</td>\n",
       "      <td>5</td>\n",
       "      <td>838794</td>\n",
       "    </tr>\n",
       "    <tr>\n",
       "      <th>1</th>\n",
       "      <td>292</td>\n",
       "      <td>559</td>\n",
       "      <td>3</td>\n",
       "      <td>906345</td>\n",
       "    </tr>\n",
       "    <tr>\n",
       "      <th>2</th>\n",
       "      <td>292</td>\n",
       "      <td>559</td>\n",
       "      <td>2</td>\n",
       "      <td>908064</td>\n",
       "    </tr>\n",
       "    <tr>\n",
       "      <th>3</th>\n",
       "      <td>292</td>\n",
       "      <td>559</td>\n",
       "      <td>4</td>\n",
       "      <td>1106523</td>\n",
       "    </tr>\n",
       "    <tr>\n",
       "      <th>4</th>\n",
       "      <td>292</td>\n",
       "      <td>559</td>\n",
       "      <td>1</td>\n",
       "      <td>9487339</td>\n",
       "    </tr>\n",
       "  </tbody>\n",
       "</table>\n",
       "</div>"
      ],
      "text/plain": [
       "   store_id  household_key  recommendation_rank  product_id\n",
       "0       292            559                    5      838794\n",
       "1       292            559                    3      906345\n",
       "2       292            559                    2      908064\n",
       "3       292            559                    4     1106523\n",
       "4       292            559                    1     9487339"
      ]
     },
     "execution_count": 11,
     "metadata": {},
     "output_type": "execute_result"
    }
   ],
   "source": [
    "\n",
    "# Read a dataset that has store_id, household_id, product_id from the historical data and use the collaborative filtering based method to append more products\n",
    "# Return the dataset along with a key that says which one it is based on - historical or recommendation\n",
    "reco_data = pd.read_csv(processed_files_path+\"/recommendation_output.csv\")\n",
    "reco_data.head()"
   ]
  },
  {
   "cell_type": "code",
   "execution_count": 52,
   "metadata": {},
   "outputs": [],
   "source": [
    "reco_data_augmented = reco_data[['store_id','household_key','product_id']]\n",
    "num_reco_products = 5 # Only up to num_reco_products will be added\n",
    "similarity_threshold = 0.5 # Only products with a similarity of similarity_threshold or above will be considered 'similar'\n",
    "for _,record in reco_data.iterrows():\n",
    "    prod_idx=prod_id_idx[record['product_id']]\n",
    "    similarity_scores = hh_prod_sim[prod_idx,:]\n",
    "    recommended_additional_product_idx = np.argsort(similarity_scores)[-(num_reco_products+1):-1]\n",
    "    for prod_idx in recommended_additional_product_idx:\n",
    "        if(similarity_scores[prod_idx]>=similarity_threshold):\n",
    "            reco_data_augmented=reco_data_augmented.append(pd.DataFrame({\"store_id\":record['store_id'],\"household_key\":record['household_key'],\n",
    "                                                                       'product_id':prod_idx_2_id[prod_idx]},index=[0]),ignore_index=True)\n",
    "reco_data_augmented=reco_data_augmented.drop_duplicates()\n",
    "reco_data_augmented.to_csv(processed_files_path+\"/recommendation_augmented_output.csv\",index=False)"
   ]
  }
 ],
 "metadata": {
  "kernelspec": {
   "display_name": "Python 3",
   "language": "python",
   "name": "python3"
  },
  "language_info": {
   "codemirror_mode": {
    "name": "ipython",
    "version": 3
   },
   "file_extension": ".py",
   "mimetype": "text/x-python",
   "name": "python",
   "nbconvert_exporter": "python",
   "pygments_lexer": "ipython3",
   "version": "3.6.1"
  }
 },
 "nbformat": 4,
 "nbformat_minor": 2
}
