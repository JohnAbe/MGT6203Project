{
 "cells": [
  {
   "cell_type": "code",
   "execution_count": 1,
   "metadata": {
    "collapsed": true
   },
   "outputs": [],
   "source": [
    "import pandas as pd\n",
    "import numpy as np\n",
    "from scipy.sparse import csr_matrix\n",
    "from sklearn.metrics.pairwise import cosine_similarity\n",
    "import pickle\n",
    "dunnhumby_path = \"/Users/johnabraham/Desktop/dunnhumby_The-Complete-Journey/dunnhumby - The Complete Journey CSV\""
   ]
  },
  {
   "cell_type": "code",
   "execution_count": 2,
   "metadata": {
    "collapsed": true
   },
   "outputs": [],
   "source": [
    "trans_data = pd.read_csv(dunnhumby_path+\"/transaction_data.csv\")"
   ]
  },
  {
   "cell_type": "code",
   "execution_count": 3,
   "metadata": {
    "collapsed": true
   },
   "outputs": [],
   "source": [
    "# Make everything in lower case\n",
    "trans_data.rename(columns=dict(zip(trans_data.columns,trans_data.columns.str.lower())),inplace=True)"
   ]
  },
  {
   "cell_type": "code",
   "execution_count": 70,
   "metadata": {
    "collapsed": true
   },
   "outputs": [],
   "source": [
    "trans_data_grpby = trans_data.groupby(['household_key','product_id'],as_index=False)['sales_value','quantity'].agg({'sales_value':'sum','quantity':'sum'})\n",
    "# Note that this filter must have the same value as is there in the Recommendations.R file. Otherwise it will throw a KeyError in the part where\n",
    "# recommendations are made\n",
    "trans_data_grpby =trans_data_grpby[trans_data_grpby.quantity>2]\n",
    "#trans_data_cross = trans_data_grpby.pivot_table(index='household_key',columns='product_id', values='sales_value').reset_index()"
   ]
  },
  {
   "cell_type": "code",
   "execution_count": 71,
   "metadata": {
    "collapsed": true
   },
   "outputs": [],
   "source": [
    "hh_key_idx = dict(zip(trans_data_grpby.household_key.unique(),np.arange(len(trans_data_grpby.household_key.unique()))))\n",
    "prod_id_idx = dict(zip(trans_data_grpby.product_id.unique(), np.arange(len(trans_data_grpby.product_id.unique()))))\n",
    "prod_idx_2_id = dict(enumerate(trans_data_grpby.product_id.unique()))"
   ]
  },
  {
   "cell_type": "code",
   "execution_count": 72,
   "metadata": {
    "collapsed": true
   },
   "outputs": [],
   "source": [
    "hh_prod_mat = csr_matrix((trans_data_grpby.sales_value,\n",
    "                          (list(map(lambda x: hh_key_idx[x],trans_data_grpby.household_key)),\n",
    "                           list(map(lambda x: prod_id_idx[x],trans_data_grpby.product_id)))),\n",
    "                          shape=(len(hh_key_idx),len(prod_id_idx)))"
   ]
  },
  {
   "cell_type": "code",
   "execution_count": 73,
   "metadata": {
    "collapsed": true
   },
   "outputs": [],
   "source": [
    "hh_prod_sim = cosine_similarity(hh_prod_mat.transpose())"
   ]
  },
  {
   "cell_type": "code",
   "execution_count": 8,
   "metadata": {
    "collapsed": true
   },
   "outputs": [],
   "source": [
    "# Earlier planned to write to a file to read in R. But the file is just too big (beyond 1 GB)\n",
    "# hh_prod_sim_df = pd.DataFrame(hh_prod_sim)\n",
    "# hh_prod_sim_df.columns=trans_data_grpby.product_id.unique()\n",
    "# hh_prod_sim_df['product_id']=trans_data_grpby.product_id.unique()"
   ]
  },
  {
   "cell_type": "code",
   "execution_count": 9,
   "metadata": {},
   "outputs": [],
   "source": [
    "# Output the file as a pickle file - Kernal dying\n",
    "# with open(\"/Users/johnabraham/Desktop/dunnhumby_The-Complete-Journey/ProductRecommendation.P\",\"wb\") as file:\n",
    "#     pickle.dump(hh_prod_sim_df,file)"
   ]
  },
  {
   "cell_type": "markdown",
   "metadata": {},
   "source": [
    "### This part below expects the R-code to generate recommendation_output.csv is run and that file is available at this location"
   ]
  },
  {
   "cell_type": "code",
   "execution_count": 55,
   "metadata": {
    "collapsed": true
   },
   "outputs": [],
   "source": [
    "processed_files_path = \"/Users/johnabraham/Dropbox/MSARelated/Spring2018/MGT6203/ProjectRelated\""
   ]
  },
  {
   "cell_type": "code",
   "execution_count": 74,
   "metadata": {},
   "outputs": [
    {
     "data": {
      "text/html": [
       "<div>\n",
       "<style>\n",
       "    .dataframe thead tr:only-child th {\n",
       "        text-align: right;\n",
       "    }\n",
       "\n",
       "    .dataframe thead th {\n",
       "        text-align: left;\n",
       "    }\n",
       "\n",
       "    .dataframe tbody tr th {\n",
       "        vertical-align: top;\n",
       "    }\n",
       "</style>\n",
       "<table border=\"1\" class=\"dataframe\">\n",
       "  <thead>\n",
       "    <tr style=\"text-align: right;\">\n",
       "      <th></th>\n",
       "      <th>store_id</th>\n",
       "      <th>household_key</th>\n",
       "      <th>recommendation_rank</th>\n",
       "      <th>product_id</th>\n",
       "    </tr>\n",
       "  </thead>\n",
       "  <tbody>\n",
       "    <tr>\n",
       "      <th>0</th>\n",
       "      <td>292</td>\n",
       "      <td>1074</td>\n",
       "      <td>4</td>\n",
       "      <td>995242</td>\n",
       "    </tr>\n",
       "    <tr>\n",
       "      <th>1</th>\n",
       "      <td>292</td>\n",
       "      <td>1074</td>\n",
       "      <td>5</td>\n",
       "      <td>1110764</td>\n",
       "    </tr>\n",
       "    <tr>\n",
       "      <th>2</th>\n",
       "      <td>292</td>\n",
       "      <td>1074</td>\n",
       "      <td>2</td>\n",
       "      <td>9396699</td>\n",
       "    </tr>\n",
       "    <tr>\n",
       "      <th>3</th>\n",
       "      <td>292</td>\n",
       "      <td>1074</td>\n",
       "      <td>3</td>\n",
       "      <td>9881593</td>\n",
       "    </tr>\n",
       "    <tr>\n",
       "      <th>4</th>\n",
       "      <td>292</td>\n",
       "      <td>1074</td>\n",
       "      <td>1</td>\n",
       "      <td>12484608</td>\n",
       "    </tr>\n",
       "  </tbody>\n",
       "</table>\n",
       "</div>"
      ],
      "text/plain": [
       "   store_id  household_key  recommendation_rank  product_id\n",
       "0       292           1074                    4      995242\n",
       "1       292           1074                    5     1110764\n",
       "2       292           1074                    2     9396699\n",
       "3       292           1074                    3     9881593\n",
       "4       292           1074                    1    12484608"
      ]
     },
     "execution_count": 74,
     "metadata": {},
     "output_type": "execute_result"
    }
   ],
   "source": [
    "# Read a dataset that has store_id, household_id, product_id from the historical data and use the collaborative filtering based method to append more products\n",
    "# Return the dataset along with a key that says which one it is based on - historical or recommendation\n",
    "reco_data = pd.read_csv(processed_files_path+\"/recommendation_output.csv\")\n",
    "reco_data.head()"
   ]
  },
  {
   "cell_type": "code",
   "execution_count": 77,
   "metadata": {},
   "outputs": [],
   "source": [
    "reco_data_augmented = reco_data[['store_id','household_key','product_id']]\n",
    "num_reco_products = 5 # Only up to num_reco_products will be added\n",
    "similarity_threshold = 0.3 # Only products with a similarity of similarity_threshold or above will be considered 'similar'\n",
    "for _,record in reco_data.iterrows():\n",
    "    prod_idx=prod_id_idx[record['product_id']]\n",
    "    similarity_scores = hh_prod_sim[prod_idx,:]\n",
    "    recommended_additional_product_idx = np.argsort(similarity_scores)[-(num_reco_products+1):-1]\n",
    "    for prod_idx in recommended_additional_product_idx:\n",
    "        if(similarity_scores[prod_idx]>=similarity_threshold):\n",
    "            reco_data_augmented=reco_data_augmented.append(pd.DataFrame({\"store_id\":record['store_id'],\"household_key\":record['household_key'],\n",
    "                                                                       'product_id':prod_idx_2_id[prod_idx]},index=[0]),ignore_index=True)\n",
    "reco_data_augmented=reco_data_augmented.drop_duplicates()\n",
    "reco_data_augmented.to_csv(processed_files_path+\"/recommendation_augmented_output.csv\",index=False)"
   ]
  }
 ],
 "metadata": {
  "kernelspec": {
   "display_name": "Python 3",
   "language": "python",
   "name": "python3"
  },
  "language_info": {
   "codemirror_mode": {
    "name": "ipython",
    "version": 3
   },
   "file_extension": ".py",
   "mimetype": "text/x-python",
   "name": "python",
   "nbconvert_exporter": "python",
   "pygments_lexer": "ipython3",
   "version": "3.6.1"
  }
 },
 "nbformat": 4,
 "nbformat_minor": 2
}
